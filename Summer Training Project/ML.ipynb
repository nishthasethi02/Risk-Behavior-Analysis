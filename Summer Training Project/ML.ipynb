{
 "cells": [
  {
   "cell_type": "code",
   "execution_count": 1,
   "id": "088774a6-3ee1-4336-88f9-1981754fba95",
   "metadata": {},
   "outputs": [],
   "source": [
    "import pandas as pd\n",
    "from sklearn.model_selection import train_test_split\n",
    "from sklearn.preprocessing import LabelEncoder\n",
    "from sklearn.linear_model import LogisticRegression\n",
    "from sklearn.tree import DecisionTreeClassifier\n",
    "from sklearn.ensemble import RandomForestClassifier\n",
    "from sklearn.metrics import (\n",
    "    accuracy_score, confusion_matrix, precision_score,\n",
    "    recall_score, f1_score, classification_report\n",
    ")\n"
   ]
  },
  {
   "cell_type": "code",
   "execution_count": 2,
   "id": "0735ee76-d1df-47a8-a754-9813dee5c1dd",
   "metadata": {},
   "outputs": [],
   "source": [
    "# Load dataset\n",
    "df = pd.read_csv(\"C:\\\\Users\\\\Nishtha Sethi\\\\Downloads\\\\addiction_population_data (2).csv\")\n",
    "\n",
    "# Create target column 'risk'\n",
    "df['risk'] = ((df['smokes_per_day'] > 5) | (df['drinks_per_week'] > 5)).astype(int)\n",
    "\n",
    "# Select features and target\n",
    "features = ['age', 'gender', 'annual_income_usd', 'has_health_issues', 'sleep_hours', 'bmi']\n",
    "X = df[features].copy()\n",
    "y = df['risk']\n",
    "\n",
    "# Encode categorical features\n",
    "le = LabelEncoder()\n",
    "X['gender'] = le.fit_transform(X['gender'])\n",
    "X['has_health_issues'] = X['has_health_issues'].apply(lambda x: 1 if x == True else 0)\n",
    "\n",
    "# Split into 70% train and 30% test\n",
    "X_train, X_test, y_train, y_test = train_test_split(X, y, test_size=0.3, random_state=42)\n"
   ]
  },
  {
   "cell_type": "code",
   "execution_count": 14,
   "id": "705c7df2-6d37-4138-81ff-e7368fe520d6",
   "metadata": {},
   "outputs": [
    {
     "name": "stdout",
     "output_type": "stream",
     "text": [
      " Logistic Regression Results (70/30 split):\n",
      " Accuracy: 0.96\n",
      " Classification Report:\n",
      "               precision    recall  f1-score   support\n",
      "\n",
      "           0       0.00      0.00      0.00        36\n",
      "           1       0.96      1.00      0.98       864\n",
      "\n",
      "    accuracy                           0.96       900\n",
      "   macro avg       0.48      0.50      0.49       900\n",
      "weighted avg       0.92      0.96      0.94       900\n",
      "\n"
     ]
    }
   ],
   "source": [
    "#Train Logistic Regression Model\n",
    "log_model = LogisticRegression(max_iter=1000, solver='liblinear')\n",
    "log_model.fit(X_train, y_train)\n",
    "log_pred = log_model.predict(X_test)\n",
    "\n",
    "print(\" Logistic Regression Results (70/30 split):\")\n",
    "print(\" Accuracy:\", accuracy_score(y_test, log_pred))\n",
    "print(\" Classification Report:\\n\", classification_report(y_test, log_pred, zero_division=0))\n"
   ]
  },
  {
   "cell_type": "code",
   "execution_count": 15,
   "id": "19de0c35-9254-4c09-9aac-83e4bc5de07c",
   "metadata": {},
   "outputs": [
    {
     "name": "stdout",
     "output_type": "stream",
     "text": [
      "\n",
      " Decision Tree Classifier Results (70/30 split):\n",
      " Accuracy: 0.9033333333333333\n",
      " Classification Report:\n",
      "               precision    recall  f1-score   support\n",
      "\n",
      "           0       0.07      0.11      0.08        36\n",
      "           1       0.96      0.94      0.95       864\n",
      "\n",
      "    accuracy                           0.90       900\n",
      "   macro avg       0.51      0.52      0.52       900\n",
      "weighted avg       0.93      0.90      0.91       900\n",
      "\n"
     ]
    }
   ],
   "source": [
    "#Decision Tree Classifier\n",
    "dt_model = DecisionTreeClassifier(random_state=42)\n",
    "dt_model.fit(X_train, y_train)\n",
    "dt_pred = dt_model.predict(X_test)\n",
    "\n",
    "print(\"\\n Decision Tree Classifier Results (70/30 split):\")\n",
    "print(\" Accuracy:\", accuracy_score(y_test, dt_pred))\n",
    "print(\" Classification Report:\\n\", classification_report(y_test, dt_pred, zero_division=0))\n"
   ]
  },
  {
   "cell_type": "code",
   "execution_count": 16,
   "id": "3adc371e-a83e-421d-872c-c02b8f2ee1d6",
   "metadata": {},
   "outputs": [
    {
     "name": "stdout",
     "output_type": "stream",
     "text": [
      "\n",
      " Random Forest Classifier Results (70/30 split):\n",
      " Accuracy: 0.96\n",
      " Classification Report:\n",
      "               precision    recall  f1-score   support\n",
      "\n",
      "           0       0.00      0.00      0.00        36\n",
      "           1       0.96      1.00      0.98       864\n",
      "\n",
      "    accuracy                           0.96       900\n",
      "   macro avg       0.48      0.50      0.49       900\n",
      "weighted avg       0.92      0.96      0.94       900\n",
      "\n"
     ]
    }
   ],
   "source": [
    "#Random Forest Classifier\n",
    "rf_model = RandomForestClassifier(random_state=42)\n",
    "rf_model.fit(X_train, y_train)\n",
    "rf_pred = rf_model.predict(X_test)\n",
    "\n",
    "print(\"\\n Random Forest Classifier Results (70/30 split):\")\n",
    "print(\" Accuracy:\", accuracy_score(y_test, rf_pred))\n",
    "print(\" Classification Report:\\n\", classification_report(y_test, rf_pred, zero_division=0))\n"
   ]
  },
  {
   "cell_type": "code",
   "execution_count": 17,
   "id": "aad6dcc3-9fc9-49b0-b689-f326c3486079",
   "metadata": {},
   "outputs": [
    {
     "name": "stdout",
     "output_type": "stream",
     "text": [
      "\n",
      " Accuracy Comparison:\n",
      "Logistic Regression Accuracy: 0.96\n",
      "Decision Tree Accuracy: 0.9033333333333333\n",
      "Random Forest Accuracy: 0.96\n"
     ]
    }
   ],
   "source": [
    "#Accuracy Scores\n",
    "print(\"\\n Accuracy Comparison:\")\n",
    "print(\"Logistic Regression Accuracy:\", accuracy_score(y_test, log_pred))\n",
    "print(\"Decision Tree Accuracy:\", accuracy_score(y_test, dt_pred))\n",
    "print(\"Random Forest Accuracy:\", accuracy_score(y_test, rf_pred))\n"
   ]
  },
  {
   "cell_type": "code",
   "execution_count": 18,
   "id": "f2429a2c-6a17-451a-86c9-e046ce7c4b0b",
   "metadata": {},
   "outputs": [
    {
     "name": "stdout",
     "output_type": "stream",
     "text": [
      "\n",
      " Confusion Matrices:\n",
      "Logistic Regression:\n",
      " [[  0  36]\n",
      " [  0 864]]\n",
      "Decision Tree:\n",
      " [[  4  32]\n",
      " [ 55 809]]\n",
      "Random Forest:\n",
      " [[  0  36]\n",
      " [  0 864]]\n"
     ]
    }
   ],
   "source": [
    "#Confusion Matrices\n",
    "print(\"\\n Confusion Matrices:\")\n",
    "print(\"Logistic Regression:\\n\", confusion_matrix(y_test, log_pred))\n",
    "print(\"Decision Tree:\\n\", confusion_matrix(y_test, dt_pred))\n",
    "print(\"Random Forest:\\n\", confusion_matrix(y_test, rf_pred))\n"
   ]
  },
  {
   "cell_type": "code",
   "execution_count": 19,
   "id": "beb32e91-dd22-4e74-aa37-41121cc17787",
   "metadata": {},
   "outputs": [
    {
     "name": "stdout",
     "output_type": "stream",
     "text": [
      "\n",
      " Precision Scores:\n",
      "Logistic Regression: 0.96\n",
      "Decision Tree: 0.9619500594530321\n",
      "Random Forest: 0.96\n"
     ]
    }
   ],
   "source": [
    "#Precision Scores\n",
    "print(\"\\n Precision Scores:\")\n",
    "print(\"Logistic Regression:\", precision_score(y_test, log_pred, zero_division=0))\n",
    "print(\"Decision Tree:\", precision_score(y_test, dt_pred, zero_division=0))\n",
    "print(\"Random Forest:\", precision_score(y_test, rf_pred, zero_division=0))\n"
   ]
  },
  {
   "cell_type": "code",
   "execution_count": 20,
   "id": "ca21b522-ea62-4d12-b89d-e2933c5f053f",
   "metadata": {},
   "outputs": [
    {
     "name": "stdout",
     "output_type": "stream",
     "text": [
      "\n",
      " Recall Scores:\n",
      "Logistic Regression: 1.0\n",
      "Decision Tree: 0.9363425925925926\n",
      "Random Forest: 1.0\n"
     ]
    }
   ],
   "source": [
    "#Recall Scores\n",
    "print(\"\\n Recall Scores:\")\n",
    "print(\"Logistic Regression:\", recall_score(y_test, log_pred, zero_division=0))\n",
    "print(\"Decision Tree:\", recall_score(y_test, dt_pred, zero_division=0))\n",
    "print(\"Random Forest:\", recall_score(y_test, rf_pred, zero_division=0))\n"
   ]
  },
  {
   "cell_type": "code",
   "execution_count": 21,
   "id": "8e024c53-eb9e-4d46-ab7d-4f72986a814a",
   "metadata": {},
   "outputs": [
    {
     "name": "stdout",
     "output_type": "stream",
     "text": [
      "\n",
      " F1 Scores:\n",
      "Logistic Regression: 0.9795918367346939\n",
      "Decision Tree: 0.9489736070381232\n",
      "Random Forest: 0.9795918367346939\n"
     ]
    }
   ],
   "source": [
    "#F1 Scores\n",
    "print(\"\\n F1 Scores:\")\n",
    "print(\"Logistic Regression:\", f1_score(y_test, log_pred, zero_division=0))\n",
    "print(\"Decision Tree:\", f1_score(y_test, dt_pred, zero_division=0))\n",
    "print(\"Random Forest:\", f1_score(y_test, rf_pred, zero_division=0))\n"
   ]
  },
  {
   "cell_type": "code",
   "execution_count": 22,
   "id": "8096640d-5454-43e7-a4ac-66c5da5659de",
   "metadata": {},
   "outputs": [
    {
     "name": "stdout",
     "output_type": "stream",
     "text": [
      "\n",
      " First 10 Flagged High-Risk Individuals (Random Forest):\n",
      "   age  gender   bmi  smokes_per_day  drinks_per_week  risk_flag\n",
      "0   66   Other  22.4               5                4          1\n",
      "1   29    Male  24.1              11                3          1\n",
      "2   75    Male  22.2              13                4          1\n",
      "3   35   Other  25.5               7                4          1\n",
      "4   38  Female  31.2               8                2          1\n",
      "5   17    Male  29.3               6                4          1\n",
      "6   36    Male  32.6               9                5          1\n",
      "7   67    Male  24.6               8                3          1\n",
      "8   16   Other  24.6               8                6          1\n",
      "9   44    Male  26.0               7                2          1\n"
     ]
    }
   ],
   "source": [
    "#Flagging High-Risk Individuals\n",
    "# Flag high-risk individuals using Random Forest\n",
    "df['risk_flag'] = rf_model.predict(X)\n",
    "\n",
    "# Get top 10 high-risk individuals\n",
    "high_risk_individuals = df[df['risk_flag'] == 1][\n",
    "    ['age', 'gender', 'bmi', 'smokes_per_day', 'drinks_per_week', 'risk_flag']\n",
    "].head(10)\n",
    "\n",
    "# Print them\n",
    "print(\"\\n First 10 Flagged High-Risk Individuals (Random Forest):\")\n",
    "print(high_risk_individuals)\n"
   ]
  },
  {
   "cell_type": "code",
   "execution_count": null,
   "id": "63bc6728-2d52-4609-a73e-c8015f97aa37",
   "metadata": {},
   "outputs": [],
   "source": []
  }
 ],
 "metadata": {
  "kernelspec": {
   "display_name": "Python 3 (ipykernel)",
   "language": "python",
   "name": "python3"
  },
  "language_info": {
   "codemirror_mode": {
    "name": "ipython",
    "version": 3
   },
   "file_extension": ".py",
   "mimetype": "text/x-python",
   "name": "python",
   "nbconvert_exporter": "python",
   "pygments_lexer": "ipython3",
   "version": "3.13.1"
  }
 },
 "nbformat": 4,
 "nbformat_minor": 5
}
